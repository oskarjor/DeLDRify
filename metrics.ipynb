{
 "cells": [
  {
   "cell_type": "markdown",
   "metadata": {},
   "source": [
    "## Load the model and the config"
   ]
  },
  {
   "cell_type": "code",
   "execution_count": 1,
   "metadata": {},
   "outputs": [],
   "source": [
    "import os\n",
    "import torch\n",
    "\n",
    "def save_ckp(checkpoint, checkpoint_dir, suffix=\"\"):\n",
    "    old_path = f\"{checkpoint_dir}/checkpoint_{suffix}_{checkpoint['epoch']-1}.pt\"\n",
    "    if os.path.exists(old_path):\n",
    "        os.remove(old_path)\n",
    "    f_path = f\"{checkpoint_dir}/checkpoint_{suffix}_{checkpoint['epoch']}.pt\"\n",
    "    torch.save(checkpoint, f_path)\n",
    "\n",
    "def load_ckp(checkpoint_fpath, model, optimizer):\n",
    "    checkpoint = torch.load(checkpoint_fpath)\n",
    "    model.load_state_dict(checkpoint['state_dict'])\n",
    "    if optimizer is not None:\n",
    "        optimizer.load_state_dict(checkpoint['optimizer'])\n",
    "    return model, optimizer, checkpoint['epoch']"
   ]
  },
  {
   "cell_type": "code",
   "execution_count": 2,
   "metadata": {},
   "outputs": [],
   "source": [
    "device = \"mps\" if torch.backends.mps.is_available() else \"cuda\" if torch.cuda.is_available() else \"cpu\""
   ]
  },
  {
   "cell_type": "code",
   "execution_count": 3,
   "metadata": {},
   "outputs": [],
   "source": [
    "from generator import RRDBNet\n",
    "from discriminator import DiscriminatorForVGG, DiscriminatorForVGG2\n",
    "import json\n",
    "\n",
    "# cache to read model weights from\n",
    "target_dir = \"cache-northern-vortex-43\"\n",
    "config_path = target_dir + \"/metadata.json\"\n",
    "with open(config_path) as conf_file:\n",
    "    config = json.load(conf_file)\n",
    "\n",
    "# create models\n",
    "G = RRDBNet(in_nc=config[\"in_nc\"], out_nc=config[\"out_nc\"], nf=config[\"nf\"], nb=config[\"nb\"], gc=config[\"gc\"])\n",
    "D = DiscriminatorForVGG(in_channels=config[\"in_channels\"], out_channels=config[\"out_channels\"], channels=config[\"channels\"])\n",
    "\n",
    "# load weights\n",
    "G, _, _ = load_ckp(target_dir + f\"/checkpoint_generator_{config['epochs']}.pt\", G, None)\n",
    "D, _, _ = load_ckp(target_dir + f\"/checkpoint_discriminator_{config['epochs']}.pt\", D, None)\n",
    "\n",
    "# move models to device (cpu, cuda or mps)\n",
    "G.to(device=device)\n",
    "D.to(device=device);"
   ]
  },
  {
   "cell_type": "markdown",
   "metadata": {},
   "source": [
    "## Prepare the data"
   ]
  },
  {
   "cell_type": "code",
   "execution_count": 4,
   "metadata": {},
   "outputs": [],
   "source": [
    "from torchvision import transforms\n",
    "\n",
    "train_transform = transforms.Compose([\n",
    "    transforms.ToTensor(), \n",
    "    transforms.Resize((128, 128), antialias=None), \n",
    "])"
   ]
  },
  {
   "cell_type": "code",
   "execution_count": 5,
   "metadata": {},
   "outputs": [],
   "source": [
    "from custom_datasets import PairWiseImages, PairWiseImagesRGBE\n",
    "\n",
    "### RGBE format\n",
    "if config[\"RGBE\"]:\n",
    "    pair = PairWiseImagesRGBE(\"LDR-HDR-pair_Dataset-master/LDR_exposure_0/\", \n",
    "                        \"LDR-HDR-pair_Dataset-master/HDR/\", \n",
    "                        transform=train_transform, device=device)\n",
    "    \n",
    "### Original dataset RGB format\n",
    "else:\n",
    "    pair = PairWiseImages(\"LDR-HDR-pair_Dataset-master/LDR_exposure_0/\", \n",
    "                        \"LDR-HDR-pair_Dataset-master/HDR/\", \n",
    "                        transform=train_transform, device=device)\n"
   ]
  },
  {
   "cell_type": "code",
   "execution_count": 6,
   "metadata": {},
   "outputs": [
    {
     "name": "stdout",
     "output_type": "stream",
     "text": [
      "Training on the whole dataset\n"
     ]
    }
   ],
   "source": [
    "import torch\n",
    "from torch.utils.data import Subset\n",
    "\n",
    "if config[\"nb_images\"] > len(pair):\n",
    "    raise ValueError(\"Number of images to train is greater than the dataset size\")\n",
    "\n",
    "elif config[\"nb_images\"] == -1 or config[\"nb_images\"] == len(pair):\n",
    "    print(\"Training on the whole dataset\")\n",
    "    pair_subset = pair\n",
    "else:\n",
    "    print(\"Training on a subset of the dataset\")\n",
    "    indices = torch.arange(config[\"nb_images\"])\n",
    "    pair_subset = Subset(pair, indices)"
   ]
  },
  {
   "cell_type": "code",
   "execution_count": 7,
   "metadata": {},
   "outputs": [],
   "source": [
    "import torch\n",
    "\n",
    "length = len(pair_subset)\n",
    "test_length = int(0.2 * length)\n",
    "\n",
    "train_data, valid_data = torch.utils.data.random_split(pair_subset, [length - test_length, test_length])"
   ]
  },
  {
   "cell_type": "code",
   "execution_count": 8,
   "metadata": {},
   "outputs": [
    {
     "data": {
      "text/plain": [
       "(71, 18)"
      ]
     },
     "execution_count": 8,
     "metadata": {},
     "output_type": "execute_result"
    }
   ],
   "source": [
    "BATCH_SIZE = 2\n",
    "\n",
    "train_dataloader = torch.utils.data.DataLoader(train_data, batch_size=BATCH_SIZE, shuffle=True)\n",
    "valid_dataloader = torch.utils.data.DataLoader(valid_data, batch_size=BATCH_SIZE, shuffle=True)\n",
    "len(train_dataloader), len(valid_dataloader)"
   ]
  },
  {
   "cell_type": "markdown",
   "metadata": {},
   "source": [
    "## Evaluate the model"
   ]
  },
  {
   "cell_type": "markdown",
   "metadata": {},
   "source": [
    "### Load a batch from the validation set"
   ]
  },
  {
   "cell_type": "code",
   "execution_count": 9,
   "metadata": {},
   "outputs": [
    {
     "name": "stdout",
     "output_type": "stream",
     "text": [
      "Real HDR images (values should be positive)\n",
      "tensor([[7.7343, 7.9246, 7.8803]], device='mps:0')\n",
      "\n",
      "Random HDR images (values should be negative)\n",
      "tensor([[-25.0027, -24.6086, -25.0165]], device='mps:0')\n",
      "\n",
      "Generated HDR images (values should be positive for a good generator, and negative for a good discriminator)\n",
      "tensor([[4.9257, 5.1651, 5.1004]], device='mps:0')\n",
      "\n"
     ]
    }
   ],
   "source": [
    "# load a batch from the validation dataset\n",
    "ldr, hdr = next(iter(valid_dataloader))\n",
    "\n",
    "# create a real, generated and random HDR image\n",
    "real_hdr = hdr\n",
    "fake_hdr = G(ldr)\n",
    "random_hdr = torch.rand_like(hdr)\n",
    "\n",
    "# run discriminator on the images\n",
    "print(\"Real HDR images (values should be positive)\")\n",
    "print(D(hdr).mean(0, keepdim=True).detach())\n",
    "print()\n",
    "\n",
    "print(\"Random HDR images (values should be negative)\")\n",
    "print(D(random_hdr).mean(0, keepdim=True).detach())\n",
    "print()\n",
    "\n",
    "print(\"Generated HDR images (values should be positive for a good generator, and negative for a good discriminator)\")\n",
    "print(D(fake_hdr).mean(0, keepdim=True).detach())\n",
    "print()"
   ]
  },
  {
   "cell_type": "code",
   "execution_count": 10,
   "metadata": {},
   "outputs": [],
   "source": [
    "import numpy as np\n",
    "from utils import preprocess_tensor_to_array\n",
    "import cv2 as cv\n",
    "\n",
    "def save_img(img_tensor: torch.Tensor, f_name: str, hdr=False):\n",
    "    img_arr = preprocess_tensor_to_array(img_tensor)\n",
    "    if hdr: # HDR: image should be in the range [0, 4]\n",
    "        np.clip(img_arr, 0, 4)\n",
    "        try:\n",
    "            cv.imwrite(f\"{target_dir}/image_samples/{f_name}.hdr\", img_arr)\n",
    "            return True\n",
    "        except:\n",
    "            print(\"Error while saving image\")\n",
    "            return False\n",
    "    else: # LDR: image should be in the range [0, 255]\n",
    "        np.clip(img_arr, 0, 1)\n",
    "        img_arr *= 255\n",
    "        try:\n",
    "            cv.imwrite(f\"{target_dir}/image_samples/{f_name}.jpg\", img_arr)\n",
    "            return True\n",
    "        except:\n",
    "            print(\"Error while saving image\")\n",
    "            return False"
   ]
  },
  {
   "cell_type": "code",
   "execution_count": 38,
   "metadata": {},
   "outputs": [],
   "source": [
    "import torch\n",
    "from skimage.metrics import structural_similarity #type:ignore\n",
    "\n",
    "def psnr(orig_hdr: torch.Tensor, pred_hdr: torch.Tensor):\n",
    "    mse = torch.mean((orig_hdr - pred_hdr) ** 2)\n",
    "    return 20 * torch.log10(4 / torch.sqrt(mse))\n",
    "\n",
    "def ssim(orig_hdr: torch.Tensor, pred_hdr: torch.Tensor):\n",
    "    orig_hdr = preprocess_tensor_to_array(orig_hdr)\n",
    "    pred_hdr = preprocess_tensor_to_array(pred_hdr)\n",
    "    return structural_similarity(orig_hdr.flatten(), pred_hdr.flatten(), data_range=4)"
   ]
  },
  {
   "cell_type": "code",
   "execution_count": 39,
   "metadata": {},
   "outputs": [
    {
     "data": {
      "text/plain": [
       "22.314022064208984"
      ]
     },
     "execution_count": 39,
     "metadata": {},
     "output_type": "execute_result"
    }
   ],
   "source": [
    "psnr(real_hdr[0], fake_hdr[0]).item()"
   ]
  },
  {
   "cell_type": "code",
   "execution_count": 40,
   "metadata": {},
   "outputs": [
    {
     "data": {
      "text/plain": [
       "0.7643911497236188"
      ]
     },
     "execution_count": 40,
     "metadata": {},
     "output_type": "execute_result"
    }
   ],
   "source": [
    "ssim(real_hdr[0].detach(), fake_hdr[0].detach())"
   ]
  },
  {
   "cell_type": "code",
   "execution_count": 22,
   "metadata": {},
   "outputs": [
    {
     "name": "stdout",
     "output_type": "stream",
     "text": [
      "Small PSNR: 7.7792510986328125\n",
      "Big PSNR: 7.781223297119141\n"
     ]
    }
   ],
   "source": [
    "small_psnr_avg = 0\n",
    "big_psnr_avg = 0\n",
    "\n",
    "for _ in range(100):\n",
    "    small1 = torch.rand(3, 128, 128, dtype=torch.float32) * 4\n",
    "    small2 = torch.rand(3, 128, 128, dtype=torch.float32) * 4\n",
    "    big1 = torch.rand(3, 1024, 1024, dtype=torch.float32) * 4\n",
    "    big2 = torch.rand(3, 1024, 1024, dtype=torch.float32) * 4\n",
    "    small_psnr_avg += psnr(small1, small2)\n",
    "    big_psnr_avg += psnr(big1, big2)\n",
    "\n",
    "small_psnr_avg /= 100\n",
    "big_psnr_avg /= 100\n",
    "print(f\"Small PSNR: {small_psnr_avg}\")\n",
    "print(f\"Big PSNR: {big_psnr_avg}\")"
   ]
  },
  {
   "cell_type": "code",
   "execution_count": 12,
   "metadata": {},
   "outputs": [
    {
     "ename": "KeyError",
     "evalue": "'seed'",
     "output_type": "error",
     "traceback": [
      "\u001b[0;31m---------------------------------------------------------------------------\u001b[0m",
      "\u001b[0;31mKeyError\u001b[0m                                  Traceback (most recent call last)",
      "\u001b[1;32m/Users/cmauget/Developer/DeLDRify/metrics.ipynb Cell 17\u001b[0m line \u001b[0;36m2\n\u001b[1;32m     <a href='vscode-notebook-cell:/Users/cmauget/Developer/DeLDRify/metrics.ipynb#X52sZmlsZQ%3D%3D?line=17'>18</a>\u001b[0m length \u001b[39m=\u001b[39m \u001b[39mlen\u001b[39m(pair)\n\u001b[1;32m     <a href='vscode-notebook-cell:/Users/cmauget/Developer/DeLDRify/metrics.ipynb#X52sZmlsZQ%3D%3D?line=18'>19</a>\u001b[0m test_length \u001b[39m=\u001b[39m \u001b[39mint\u001b[39m(\u001b[39m0.2\u001b[39m \u001b[39m*\u001b[39m length)\n\u001b[0;32m---> <a href='vscode-notebook-cell:/Users/cmauget/Developer/DeLDRify/metrics.ipynb#X52sZmlsZQ%3D%3D?line=20'>21</a>\u001b[0m torch\u001b[39m.\u001b[39mmanual_seed(config[\u001b[39m\"\u001b[39;49m\u001b[39mseed\u001b[39;49m\u001b[39m\"\u001b[39;49m])\n\u001b[1;32m     <a href='vscode-notebook-cell:/Users/cmauget/Developer/DeLDRify/metrics.ipynb#X52sZmlsZQ%3D%3D?line=21'>22</a>\u001b[0m train_data, valid_data \u001b[39m=\u001b[39m torch\u001b[39m.\u001b[39mutils\u001b[39m.\u001b[39mdata\u001b[39m.\u001b[39mrandom_split(pair, [length \u001b[39m-\u001b[39m test_length, test_length])\n",
      "\u001b[0;31mKeyError\u001b[0m: 'seed'"
     ]
    }
   ],
   "source": [
    "from custom_datasets import PairWiseImages, PairWiseImagesRGBE\n",
    "    \n",
    "from torchvision import transforms\n",
    "\n",
    "train_transform = transforms.Compose([\n",
    "    transforms.ToTensor(), \n",
    "    transforms.Resize((128, 128), antialias=None), \n",
    "])\n",
    "\n",
    "### Original dataset RGB format\n",
    "pair = PairWiseImages(\"LDR-HDR-pair_Dataset-master/LDR_exposure_0/\", \n",
    "                    \"LDR-HDR-pair_Dataset-master/HDR/\", \n",
    "                    transform=train_transform, device=\"cpu\")\n",
    "\n",
    "\n",
    "import torch\n",
    "\n",
    "length = len(pair)\n",
    "test_length = int(0.2 * length)\n",
    "\n",
    "torch.manual_seed(config[\"seed\"])\n",
    "train_data, valid_data = torch.utils.data.random_split(pair, [length - test_length, test_length])"
   ]
  },
  {
   "cell_type": "code",
   "execution_count": 24,
   "metadata": {},
   "outputs": [
    {
     "data": {
      "text/plain": [
       "(tensor([[[0.7598, 0.8706, 0.8324,  ..., 0.9990, 0.9569, 0.9461],\n",
       "          [0.8686, 0.8657, 0.9049,  ..., 0.9922, 1.0000, 0.9775],\n",
       "          [0.8657, 0.8902, 0.8873,  ..., 0.9961, 0.9598, 0.9069],\n",
       "          ...,\n",
       "          [0.5363, 0.7020, 0.5980,  ..., 0.6627, 0.6451, 0.7127],\n",
       "          [0.6265, 0.6333, 0.5794,  ..., 0.6363, 0.6882, 0.6422],\n",
       "          [0.4863, 0.4392, 0.4069,  ..., 0.6265, 0.6794, 0.7147]],\n",
       " \n",
       "         [[0.6912, 0.8873, 0.8520,  ..., 0.9833, 0.9127, 0.9284],\n",
       "          [0.8412, 0.8853, 0.9127,  ..., 0.9725, 0.9824, 0.9657],\n",
       "          [0.8578, 0.9098, 0.8951,  ..., 0.9843, 0.9373, 0.8755],\n",
       "          ...,\n",
       "          [0.5147, 0.6765, 0.5706,  ..., 0.6510, 0.6333, 0.6814],\n",
       "          [0.6059, 0.6020, 0.5559,  ..., 0.6206, 0.6745, 0.6304],\n",
       "          [0.4608, 0.4137, 0.3873,  ..., 0.6098, 0.6598, 0.7029]],\n",
       " \n",
       "         [[0.6520, 0.8843, 0.8637,  ..., 0.9716, 0.9049, 0.9157],\n",
       "          [0.7863, 0.8814, 0.9127,  ..., 0.9608, 0.9667, 0.9520],\n",
       "          [0.8225, 0.9059, 0.8951,  ..., 0.9686, 0.9255, 0.8637],\n",
       "          ...,\n",
       "          [0.4990, 0.6529, 0.5725,  ..., 0.6353, 0.6176, 0.6539],\n",
       "          [0.5882, 0.5745, 0.5363,  ..., 0.6167, 0.6647, 0.6147],\n",
       "          [0.4373, 0.3980, 0.3676,  ..., 0.5990, 0.6520, 0.6873]]]),\n",
       " tensor([[[0.3665, 0.5459, 0.4492,  ..., 1.9648, 1.2500, 1.0693],\n",
       "          [0.5205, 0.5703, 0.6543,  ..., 1.6582, 2.0820, 1.5156],\n",
       "          [0.4976, 0.6172, 0.6162,  ..., 1.8574, 1.5898, 0.7139],\n",
       "          ...,\n",
       "          [0.1516, 0.2656, 0.1809,  ..., 0.2244, 0.2144, 0.2620],\n",
       "          [0.2012, 0.2080, 0.1721,  ..., 0.2112, 0.2520, 0.2144],\n",
       "          [0.1372, 0.1132, 0.1012,  ..., 0.2017, 0.2427, 0.2788]],\n",
       " \n",
       "         [[0.3066, 0.5947, 0.5093,  ..., 1.5332, 0.8721, 0.9521],\n",
       "          [0.4780, 0.6221, 0.7002,  ..., 1.3184, 1.5781, 1.1367],\n",
       "          [0.4961, 0.6553, 0.6426,  ..., 1.4805, 1.0996, 0.6064],\n",
       "          ...,\n",
       "          [0.1428, 0.2441, 0.1709,  ..., 0.2190, 0.2087, 0.2449],\n",
       "          [0.1931, 0.1907, 0.1582,  ..., 0.2019, 0.2461, 0.2061],\n",
       "          [0.1266, 0.1053, 0.0911,  ..., 0.1926, 0.2300, 0.2710]],\n",
       " \n",
       "         [[0.2498, 0.6289, 0.5420,  ..., 1.2930, 0.6729, 0.9375],\n",
       "          [0.4062, 0.6309, 0.7197,  ..., 1.0996, 1.2500, 0.9102],\n",
       "          [0.4590, 0.6680, 0.6504,  ..., 1.2715, 0.9121, 0.6123],\n",
       "          ...,\n",
       "          [0.1353, 0.2192, 0.1641,  ..., 0.2104, 0.2017, 0.2244],\n",
       "          [0.1802, 0.1738, 0.1426,  ..., 0.1970, 0.2322, 0.2009],\n",
       "          [0.1169, 0.0963, 0.0829,  ..., 0.1848, 0.2190, 0.2583]]]))"
      ]
     },
     "execution_count": 24,
     "metadata": {},
     "output_type": "execute_result"
    }
   ],
   "source": [
    "train_data[0]"
   ]
  },
  {
   "cell_type": "code",
   "execution_count": null,
   "metadata": {},
   "outputs": [],
   "source": []
  }
 ],
 "metadata": {
  "kernelspec": {
   "display_name": "hdrgan",
   "language": "python",
   "name": "python3"
  },
  "language_info": {
   "codemirror_mode": {
    "name": "ipython",
    "version": 3
   },
   "file_extension": ".py",
   "mimetype": "text/x-python",
   "name": "python",
   "nbconvert_exporter": "python",
   "pygments_lexer": "ipython3",
   "version": "3.9.18"
  }
 },
 "nbformat": 4,
 "nbformat_minor": 2
}
